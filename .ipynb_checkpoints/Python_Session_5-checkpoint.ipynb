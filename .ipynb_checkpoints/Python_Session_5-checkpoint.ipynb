{
 "cells": [
  {
   "cell_type": "markdown",
   "id": "cfa17ac5-6ed8-4a8b-a86a-0820fb89b4d1",
   "metadata": {},
   "source": [
    "- don't do overaction\n",
    "- only action\n",
    "- listen the class carefully\n",
    "- chat only with chatGPT`m"
   ]
  },
  {
   "cell_type": "markdown",
   "id": "66b17c2f-1b3a-4f4b-b0c7-b5aa0b47a90c",
   "metadata": {},
   "source": [
    "- datatypes"
   ]
  },
  {
   "cell_type": "code",
   "execution_count": 1,
   "id": "3912da0b-2b99-4706-bf47-b7de9fe64563",
   "metadata": {},
   "outputs": [
    {
     "name": "stdout",
     "output_type": "stream",
     "text": [
      "30\n",
      "20\n"
     ]
    }
   ],
   "source": [
    "num1=30\n",
    "num2=20\n",
    "print(num1)\n",
    "print(num2)"
   ]
  },
  {
   "cell_type": "code",
   "execution_count": 3,
   "id": "2370e819-7b6e-4a47-94c6-6dffcbe7e307",
   "metadata": {},
   "outputs": [
    {
     "name": "stdout",
     "output_type": "stream",
     "text": [
      "30\n",
      "20\n"
     ]
    },
    {
     "data": {
      "text/plain": [
       "(None, None)"
      ]
     },
     "execution_count": 3,
     "metadata": {},
     "output_type": "execute_result"
    }
   ],
   "source": [
    "num1=30\n",
    "num2=20\n",
    "print(num1),print(num2)"
   ]
  },
  {
   "cell_type": "code",
   "execution_count": 4,
   "id": "77479552-6e28-487c-9bf3-302692702d57",
   "metadata": {},
   "outputs": [
    {
     "name": "stdout",
     "output_type": "stream",
     "text": [
      "30 20\n"
     ]
    }
   ],
   "source": [
    "num1=30\n",
    "num2=20\n",
    "print(num1,num2)"
   ]
  },
  {
   "cell_type": "code",
   "execution_count": 8,
   "id": "09290336-dc02-4b09-94c1-d3042eb75686",
   "metadata": {},
   "outputs": [
    {
     "name": "stdout",
     "output_type": "stream",
     "text": [
      "the addition of  100 and 200 is 300\n"
     ]
    }
   ],
   "source": [
    "a=100\n",
    "b=200\n",
    "c=a+b\n",
    "print('the addition of ',a,'and' ,b, 'is' ,c)"
   ]
  },
  {
   "cell_type": "code",
   "execution_count": 18,
   "id": "961e804b-04e1-4e3f-9084-30a8af3b5fdd",
   "metadata": {},
   "outputs": [
    {
     "name": "stdout",
     "output_type": "stream",
     "text": [
      "My name is python I am 23 years old and from hyderabad\n"
     ]
    }
   ],
   "source": [
    "name='python'\n",
    "age=23\n",
    "city='hyderabad'\n",
    "print('My name is',name,'I am',age,'years old','and from',city)"
   ]
  },
  {
   "cell_type": "markdown",
   "id": "cdbbb896-7f83-40cf-9c9c-2b90b63b715b",
   "metadata": {},
   "source": [
    "## format string literals"
   ]
  },
  {
   "cell_type": "code",
   "execution_count": 15,
   "id": "c6718511-f092-4cfd-b78c-e88c6cd76bf5",
   "metadata": {},
   "outputs": [
    {
     "name": "stdout",
     "output_type": "stream",
     "text": [
      "the addition of 100 and 200 is 300\n"
     ]
    }
   ],
   "source": [
    "a=100\n",
    "b=200\n",
    "c=a+b\n",
    "print('the addition of {} and {} is {}'.format(a,b,c))"
   ]
  },
  {
   "cell_type": "code",
   "execution_count": 17,
   "id": "5c9089e5-ca2f-4eff-9e2e-a221ccc3987b",
   "metadata": {},
   "outputs": [
    {
     "name": "stdout",
     "output_type": "stream",
     "text": [
      "my name is python im 23 years old and from hyderabad\n"
     ]
    }
   ],
   "source": [
    "name='python'\n",
    "age=23\n",
    "city='hyderabad'\n",
    "print('my name is {} im {} years old and from {}'.format(name,age,city))"
   ]
  },
  {
   "cell_type": "code",
   "execution_count": 20,
   "id": "a130833c-62c2-46de-a090-7f3ba57dcd7d",
   "metadata": {},
   "outputs": [
    {
     "name": "stdout",
     "output_type": "stream",
     "text": [
      "the addition of 200 and 100 is 300\n",
      "the subtraction of 200 and 100 is 100\n",
      "the multiplication of 200 and 100 is 20000\n",
      "the division of 200 and 100 is 2.0\n"
     ]
    }
   ],
   "source": [
    "n1=200\n",
    "n2=100\n",
    "add=n1+n2\n",
    "sub=n1-n2\n",
    "mul=n1*n2\n",
    "div=n1/n2\n",
    "print('the addition of' ,n1, 'and',n2,'is',add)\n",
    "print('the subtraction of' ,n1, 'and',n2,'is',sub)\n",
    "print('the multiplication of' ,n1, 'and',n2,'is',mul)\n",
    "print('the division of' ,n1, 'and',n2,'is',div)\n",
    "\n"
   ]
  },
  {
   "cell_type": "code",
   "execution_count": 26,
   "id": "bee1eb8c-64fd-43b4-bd31-e0d1db0aaac1",
   "metadata": {},
   "outputs": [
    {
     "name": "stdout",
     "output_type": "stream",
     "text": [
      "the addition of 200 and100 is 300\n",
      "the  subtraction of 200 and100 is 100\n",
      "the multiplication of 200 and100 is 20000\n",
      "the division of 200 and100 is 2.0\n"
     ]
    }
   ],
   "source": [
    "n1=200\n",
    "n2=100\n",
    "add=n1+n2\n",
    "sub=n1-n2\n",
    "mul=n1*n2\n",
    "div=n1/n2\n",
    "print(f'the addition of {n1} and{n2} is {add}')\n",
    "print(f'the  subtraction of {n1} and{n2} is {sub}')\n",
    "print(f'the multiplication of {n1} and{n2} is {mul}')\n",
    "print(f'the division of {n1} and{n2} is {div}')"
   ]
  },
  {
   "cell_type": "markdown",
   "id": "9b576266-8fd8-4430-8763-5f95a7b1fd40",
   "metadata": {},
   "source": [
    "n1=200\n",
    "n2=100\n",
    "add=n1+n2\n",
    "sub=n1-n2\n",
    "mul=n1*n2\n",
    "div=n1/n2\n",
    "print(f'the addition of {n1} and{n2} is {add}')\n",
    "print(f'the  subtraction of {n1} and{n2} is {sub}')\n",
    "print(f'the multiplication of {n1} and{n2} is {mul}')\n",
    "print(f'the division of {n1} and{n2} is {div}')"
   ]
  },
  {
   "cell_type": "markdown",
   "id": "e7687d63-852a-4957-9027-df63f0304c5e",
   "metadata": {},
   "source": [
    "## f string\n",
    "\n",
    "\n",
    "\n"
   ]
  },
  {
   "cell_type": "code",
   "execution_count": 27,
   "id": "0aa63d2a-cbbe-42bc-b269-c7aa1d8cd8b2",
   "metadata": {},
   "outputs": [
    {
     "name": "stdout",
     "output_type": "stream",
     "text": [
      "the addition of 200 and100 is 300\n",
      "the  subtraction of 200 and100 is 100\n",
      "the multiplication of 200 and100 is 20000\n",
      "the division of 200 and100 is 2.0\n"
     ]
    }
   ],
   "source": [
    "n1=200\n",
    "n2=100\n",
    "add=n1+n2\n",
    "sub=n1-n2\n",
    "mul=n1*n2\n",
    "div=n1/n2\n",
    "print('the addition of {} and{} is {}'.format(n1,n2,n1+n2))\n",
    "print('the  subtraction of {} and{} is {}'.format(n1,n2,n1-n2))\n",
    "print('the multiplication of {} and{} is {}'.format(n1,n2,n1*n2))\n",
    "print('the division of {} and{} is {}'.format(n1,n2,n1/n2))"
   ]
  },
  {
   "cell_type": "markdown",
   "id": "141270d2-97b3-4024-82ff-a8afdd0e5ae8",
   "metadata": {},
   "source": [
    "$ end $"
   ]
  },
  {
   "cell_type": "code",
   "execution_count": 33,
   "id": "c6d55f6d-53af-469e-b8e3-00d1f81af1bd",
   "metadata": {},
   "outputs": [
    {
     "name": "stdout",
     "output_type": "stream",
     "text": [
      "20 30\n"
     ]
    }
   ],
   "source": [
    "print(20,end=' ')\n",
    "print(30)"
   ]
  },
  {
   "cell_type": "code",
   "execution_count": 35,
   "id": "36cd545b-6ff6-41ab-9642-3739422cce4d",
   "metadata": {},
   "outputs": [
    {
     "name": "stdout",
     "output_type": "stream",
     "text": [
      "hello good mng\n"
     ]
    }
   ],
   "source": [
    "print('hello',end=' ')\n",
    "print('good mng')"
   ]
  },
  {
   "cell_type": "markdown",
   "id": "cb8c85d8-c81e-4312-b213-375785a6d373",
   "metadata": {},
   "source": [
    "- we want to seperate multiple variables in one print statement"
   ]
  },
  {
   "cell_type": "code",
   "execution_count": 38,
   "id": "771d35ae-85e3-4583-a31f-70c8233e9c60",
   "metadata": {},
   "outputs": [
    {
     "name": "stdout",
     "output_type": "stream",
     "text": [
      "20 @@@ 30 @@@ 50\n"
     ]
    }
   ],
   "source": [
    "print(20,30,50,sep=' @@@ ')"
   ]
  },
  {
   "cell_type": "markdown",
   "id": "f110f92b-267d-436d-9d04-bd31dd7e44c5",
   "metadata": {},
   "source": [
    "- end operator used to combine multiple print statements\n",
    "- sep operator used to seperate multiple variables in a single print statements"
   ]
  },
  {
   "cell_type": "code",
   "execution_count": 40,
   "id": "755a512a-d87b-4aa7-9531-2af7873dd92b",
   "metadata": {},
   "outputs": [
    {
     "name": "stdout",
     "output_type": "stream",
     "text": [
      "the addition of 3+4 is 7 .\n"
     ]
    }
   ],
   "source": [
    "print('the addition of 3+4 is' ,3+4,'.')"
   ]
  },
  {
   "cell_type": "code",
   "execution_count": 43,
   "id": "fbd8d05a-93ba-4804-ba42-defd2409df70",
   "metadata": {},
   "outputs": [
    {
     "name": "stdout",
     "output_type": "stream",
     "text": [
      "the addition of 3+4 is7.\n"
     ]
    }
   ],
   "source": [
    "print('the addition of 3+4 is' ,3+4,'.',sep='')"
   ]
  },
  {
   "cell_type": "code",
   "execution_count": null,
   "id": "a1eb419b-e52f-473c-bd4c-a667af2df2f3",
   "metadata": {},
   "outputs": [],
   "source": []
  }
 ],
 "metadata": {
  "kernelspec": {
   "display_name": "Python 3 (ipykernel)",
   "language": "python",
   "name": "python3"
  },
  "language_info": {
   "codemirror_mode": {
    "name": "ipython",
    "version": 3
   },
   "file_extension": ".py",
   "mimetype": "text/x-python",
   "name": "python",
   "nbconvert_exporter": "python",
   "pygments_lexer": "ipython3",
   "version": "3.12.7"
  }
 },
 "nbformat": 4,
 "nbformat_minor": 5
}
