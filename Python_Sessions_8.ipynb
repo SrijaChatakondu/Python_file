{
 "cells": [
  {
   "cell_type": "code",
   "execution_count": 2,
   "id": "b3fd1dc9-f41c-4f9c-bc70-2db7e94a6280",
   "metadata": {},
   "outputs": [
    {
     "name": "stdout",
     "output_type": "stream",
     "text": [
      "hello\n",
      "30\n"
     ]
    }
   ],
   "source": [
    "name='python'\n",
    "if name=='python':\n",
    "    print(\"hello\")\n",
    "    a=10\n",
    "    b=20\n",
    "    print(a+b)\n",
    "    "
   ]
  },
  {
   "cell_type": "code",
   "execution_count": 3,
   "id": "36fe0c44-b1d5-4beb-8449-9e569fea5082",
   "metadata": {},
   "outputs": [
    {
     "name": "stdout",
     "output_type": "stream",
     "text": [
      "correct\n",
      "bye\n"
     ]
    }
   ],
   "source": [
    "if 100>10:\n",
    "    print('correct')\n",
    "print(\"bye\")"
   ]
  },
  {
   "cell_type": "code",
   "execution_count": 4,
   "id": "5145206a-6074-4747-9acd-e247ca9e25c5",
   "metadata": {},
   "outputs": [
    {
     "name": "stdout",
     "output_type": "stream",
     "text": [
      "hai\n",
      "correct\n",
      "bye\n"
     ]
    }
   ],
   "source": [
    "print(\"hai\")\n",
    "if 100>10:\n",
    "    print('correct')\n",
    "print(\"bye\")"
   ]
  },
  {
   "cell_type": "code",
   "execution_count": 5,
   "id": "3741954e-316a-453c-8caf-340d57d300e9",
   "metadata": {},
   "outputs": [
    {
     "name": "stdout",
     "output_type": "stream",
     "text": [
      "correct\n",
      "hiii\n",
      "bye\n"
     ]
    }
   ],
   "source": [
    "if 100>10:\n",
    "    print('correct')\n",
    "    print(\"hiii\")\n",
    "print(\"bye\")"
   ]
  },
  {
   "cell_type": "markdown",
   "id": "4492695d-7352-4dc6-bee9-06131870ada8",
   "metadata": {},
   "source": [
    "if 100>10:"
   ]
  },
  {
   "cell_type": "code",
   "execution_count": 8,
   "id": "02cb2807-6282-4901-b5db-662b15eb976c",
   "metadata": {},
   "outputs": [
    {
     "name": "stdout",
     "output_type": "stream",
     "text": [
      "correct condition\n"
     ]
    }
   ],
   "source": [
    "if 100>10:\n",
    "    print(\"correct condition\")\n",
    "else:\n",
    "    print(\"wrong condition\")"
   ]
  },
  {
   "cell_type": "code",
   "execution_count": 9,
   "id": "9598aba5-6487-4310-8423-9d0cf3ecc5cc",
   "metadata": {},
   "outputs": [
    {
     "name": "stdout",
     "output_type": "stream",
     "text": [
      "wrong condition\n"
     ]
    }
   ],
   "source": [
    "if 100<10:\n",
    "    print(\"correct condition\")\n",
    "else:\n",
    "    print(\"wrong condition\")"
   ]
  },
  {
   "cell_type": "code",
   "execution_count": 10,
   "id": "edc00820-b09c-49f7-b105-765f1a32a24d",
   "metadata": {},
   "outputs": [
    {
     "ename": "SyntaxError",
     "evalue": "invalid syntax (2821023114.py, line 6)",
     "output_type": "error",
     "traceback": [
      "\u001b[1;36m  Cell \u001b[1;32mIn[10], line 6\u001b[1;36m\u001b[0m\n\u001b[1;33m    else:\u001b[0m\n\u001b[1;37m    ^\u001b[0m\n\u001b[1;31mSyntaxError\u001b[0m\u001b[1;31m:\u001b[0m invalid syntax\n"
     ]
    }
   ],
   "source": [
    "print(10)\n",
    "if 100<10:\n",
    "    print(\"correct condition\")\n",
    "    print(\"okay\")\n",
    "print(\"dont come in the middle\")\n",
    "else:\n",
    "    print(\"wrong condition\")\n",
    "print(20)"
   ]
  },
  {
   "cell_type": "markdown",
   "id": "808aa790-c40e-45fa-a29c-749d1a9a6383",
   "metadata": {},
   "source": [
    "## **if and else ** always together"
   ]
  },
  {
   "cell_type": "code",
   "execution_count": 14,
   "id": "fa171fbc-8e46-4d7c-9ddc-f953f6fcdbce",
   "metadata": {},
   "outputs": [
    {
     "name": "stdin",
     "output_type": "stream",
     "text": [
      "enter the number 45\n",
      "enter the number 38\n"
     ]
    },
    {
     "name": "stdout",
     "output_type": "stream",
     "text": [
      "we lost\n"
     ]
    }
   ],
   "source": [
    "a=eval(input(\"enter the number\"))\n",
    "b=eval(input(\"enter the number\"))\n",
    "if a==b:\n",
    "    print(\"we won\")\n",
    "else:\n",
    "    print(\"we lost\")"
   ]
  },
  {
   "cell_type": "code",
   "execution_count": 22,
   "id": "53d491b0-721b-460a-93a0-3ab8fbe67e54",
   "metadata": {},
   "outputs": [
    {
     "name": "stdin",
     "output_type": "stream",
     "text": [
      "enter a number: 7\n"
     ]
    },
    {
     "name": "stdout",
     "output_type": "stream",
     "text": [
      "we won\n"
     ]
    }
   ],
   "source": [
    "\n",
    "import random\n",
    "num1=random.randint(0,8)\n",
    "num2=eval(input(\"enter a number:\"))\n",
    "if num1==num2:\n",
    "    print(\"we won\")\n",
    "else:\n",
    "    print(\"we lost\")\n"
   ]
  },
  {
   "cell_type": "code",
   "execution_count": 23,
   "id": "8b05f96d-7ebf-43e9-9cab-d1d5ccaa4566",
   "metadata": {},
   "outputs": [
    {
     "name": "stdout",
     "output_type": "stream",
     "text": [
      "1\n"
     ]
    },
    {
     "name": "stdin",
     "output_type": "stream",
     "text": [
      "enter a number: 8\n"
     ]
    },
    {
     "name": "stdout",
     "output_type": "stream",
     "text": [
      "we lost\n"
     ]
    }
   ],
   "source": [
    "\n",
    "import random\n",
    "num1=random.randint(0,8)\n",
    "print(num1)\n",
    "num2=eval(input(\"enter a number:\"))\n",
    "if num1==num2:\n",
    "    print(\"we won\")\n",
    "else:\n",
    "    print(\"we lost\")\n"
   ]
  },
  {
   "cell_type": "code",
   "execution_count": 28,
   "id": "81d2c190-aa45-46da-89a5-0fe5cf669d19",
   "metadata": {},
   "outputs": [
    {
     "data": {
      "text/plain": [
       "1"
      ]
     },
     "execution_count": 28,
     "metadata": {},
     "output_type": "execute_result"
    }
   ],
   "source": [
    "5%2 ##modulus operator-->answer is remainder"
   ]
  },
  {
   "cell_type": "code",
   "execution_count": 27,
   "id": "25e22829-9681-4970-9428-28e3f4de0a38",
   "metadata": {},
   "outputs": [
    {
     "data": {
      "text/plain": [
       "2"
      ]
     },
     "execution_count": 27,
     "metadata": {},
     "output_type": "execute_result"
    }
   ],
   "source": [
    "5//2 ##floor division-->anser is quotient"
   ]
  },
  {
   "cell_type": "code",
   "execution_count": 29,
   "id": "c06347e5-c6c4-4b82-8675-a6bbb2c805b7",
   "metadata": {},
   "outputs": [
    {
     "data": {
      "text/plain": [
       "2.5"
      ]
     },
     "execution_count": 29,
     "metadata": {},
     "output_type": "execute_result"
    }
   ],
   "source": [
    "5/2"
   ]
  },
  {
   "cell_type": "code",
   "execution_count": 30,
   "id": "938f8228-2218-4152-ab2f-313d2f7d720c",
   "metadata": {},
   "outputs": [
    {
     "name": "stdin",
     "output_type": "stream",
     "text": [
      "enter a number: 38\n"
     ]
    },
    {
     "name": "stdout",
     "output_type": "stream",
     "text": [
      "the given 38 is even\n"
     ]
    }
   ],
   "source": [
    "num=eval(input(\"enter a number:\"))\n",
    "if num%2==0:\n",
    "    print(f\"the given {num} is even\")\n",
    "else:\n",
    "    print(f\"the given {num} is odd\")"
   ]
  },
  {
   "cell_type": "code",
   "execution_count": 31,
   "id": "bf517297-c4c4-4b70-924a-66312111c4b2",
   "metadata": {},
   "outputs": [
    {
     "name": "stdin",
     "output_type": "stream",
     "text": [
      "enter the distance 38\n",
      "enter the charge 20\n"
     ]
    },
    {
     "name": "stdout",
     "output_type": "stream",
     "text": [
      "the total charge 260\n"
     ]
    }
   ],
   "source": [
    "distance=eval(input(\"enter the distance\"))\n",
    "if distance>25:\n",
    "    charge=eval(input(\"enter the charge\"))\n",
    "    totalcharge=(distance-25)*charge\n",
    "    print(f\"the total charge {totalcharge}\")\n",
    "else:\n",
    "    print(\"free ride\")"
   ]
  },
  {
   "cell_type": "code",
   "execution_count": 35,
   "id": "0c6a1adf-694e-499b-8a53-cc3da4256f10",
   "metadata": {},
   "outputs": [
    {
     "name": "stdin",
     "output_type": "stream",
     "text": [
      "enter the distance 10\n",
      "enter the cut off distance 20\n"
     ]
    },
    {
     "name": "stdout",
     "output_type": "stream",
     "text": [
      "free ride\n"
     ]
    }
   ],
   "source": [
    "distance=eval(input(\"enter the distance\"))\n",
    "cutoff_distance=eval(input(\"enter the cut off distance\"))\n",
    "\n",
    "if distance>cutoff_distance:\n",
    "    print(f'the cutoff distance is {cutoff_distance}')\n",
    "    charge=eval(input(\"enter the charge\"))\n",
    "    totalcharge=(distance-cutoff_distance)*charge\n",
    "    print(f\"the total charge {totalcharge}\")\n",
    "else:\n",
    "    print(\"free ride\")"
   ]
  },
  {
   "cell_type": "code",
   "execution_count": 37,
   "id": "5e11f173-edec-47d5-8602-eefdee0ae784",
   "metadata": {},
   "outputs": [
    {
     "name": "stdin",
     "output_type": "stream",
     "text": [
      "enter the number1: 23\n",
      "enter the number2: 38\n"
     ]
    },
    {
     "name": "stdout",
     "output_type": "stream",
     "text": [
      "num2 is greater\n"
     ]
    }
   ],
   "source": [
    "num1=eval(input(\"enter the number1:\"))\n",
    "num2=eval(input(\"enter the number2:\"))\n",
    "if num1>num2:\n",
    "    print(\"num1 is greater\")\n",
    "else:\n",
    "    print(\"num2 is greater\")"
   ]
  },
  {
   "cell_type": "code",
   "execution_count": 38,
   "id": "5f48aec4-bf6a-4ed7-b9b9-cb1b28a35cec",
   "metadata": {},
   "outputs": [
    {
     "name": "stdin",
     "output_type": "stream",
     "text": [
      "enter the number1: 23\n"
     ]
    },
    {
     "name": "stdout",
     "output_type": "stream",
     "text": [
      "num2 is greater\n"
     ]
    }
   ],
   "source": [
    "\n",
    "import random\n",
    "num1=eval(input(\"enter the number1:\"))\n",
    "num2=random.randint(1,100)\n",
    "if num1>num2:\n",
    "    print(\"num1 is greater\")\n",
    "else:\n",
    "    print(\"num2 is greater\")"
   ]
  },
  {
   "cell_type": "code",
   "execution_count": 41,
   "id": "dc0ee56f-b334-493f-ab2e-6cdb4179a8cd",
   "metadata": {},
   "outputs": [
    {
     "name": "stdin",
     "output_type": "stream",
     "text": [
      "enter the course name science\n",
      "enter the institute name nt\n"
     ]
    },
    {
     "name": "stdout",
     "output_type": "stream",
     "text": [
      "we are not good\n"
     ]
    }
   ],
   "source": [
    "coursename=input(\"enter the course name\")\n",
    "institutename=input(\"enter the institute name\")\n",
    "if (coursename=='datascience') and (institutename=='nareshit'):\n",
    "    print(\"we are good\")\n",
    "else:\n",
    "    print(\"we are not good\")"
   ]
  },
  {
   "cell_type": "markdown",
   "id": "deb376e6-e12d-4bbf-921e-bfd9bf2f88c7",
   "metadata": {},
   "source": [
    "**if-elif-else**\n",
    "- used for 3 conditions"
   ]
  },
  {
   "cell_type": "code",
   "execution_count": 3,
   "id": "a93c5427-2e54-41d8-a003-7111fce77a71",
   "metadata": {},
   "outputs": [
    {
     "name": "stdin",
     "output_type": "stream",
     "text": [
      "enter a number: 3\n"
     ]
    },
    {
     "name": "stdout",
     "output_type": "stream",
     "text": [
      "three\n"
     ]
    }
   ],
   "source": [
    "num=eval(input(\"enter a number:\"))\n",
    "if num==1:\n",
    "    print('one')\n",
    "elif num==2:\n",
    "    print('two')\n",
    "elif num==3:\n",
    "    print('three')\n",
    "else:\n",
    "    print('enter a valid number')\n"
   ]
  },
  {
   "cell_type": "code",
   "execution_count": 7,
   "id": "348e5929-b042-4664-af11-c6bee844abe9",
   "metadata": {},
   "outputs": [
    {
     "name": "stdin",
     "output_type": "stream",
     "text": [
      "enter the percentage of marks: 65\n"
     ]
    },
    {
     "name": "stdout",
     "output_type": "stream",
     "text": [
      "B grade\n"
     ]
    }
   ],
   "source": [
    "per=eval(input(\"enter the percentage of marks:\"))\n",
    "if per>=75:\n",
    "    print(\"A grade\")\n",
    "elif per<75 and per>=60:\n",
    "    print(\"B grade\")\n",
    "elif per<60 and per>=45:\n",
    "    print(\"C grade\")\n",
    "elif per<45 and per>=35:\n",
    "    print(\"D grade\")\n",
    "else:\n",
    "    print(\"fail\")\n"
   ]
  },
  {
   "cell_type": "code",
   "execution_count": 10,
   "id": "bf093c04-53f3-4c50-a535-09e29e63a684",
   "metadata": {},
   "outputs": [
    {
     "name": "stdin",
     "output_type": "stream",
     "text": [
      "enter the percentage of marks: 100\n"
     ]
    },
    {
     "name": "stdout",
     "output_type": "stream",
     "text": [
      "A grade\n"
     ]
    }
   ],
   "source": [
    "per=eval(input(\"enter the percentage of marks:\"))\n",
    "if per>=75:\n",
    "    print(\"A grade\")\n",
    "elif per>=60:\n",
    "    print(\"B grade\")\n",
    "elif per>=45:\n",
    "    print(\"C grade\")\n",
    "elif per>=35:\n",
    "    print(\"D grade\")\n",
    "else:\n",
    "    print(\"fail\")\n"
   ]
  },
  {
   "cell_type": "code",
   "execution_count": 12,
   "id": "84ac4a05-f492-4dff-a7fa-d57c5b0a1e8e",
   "metadata": {},
   "outputs": [
    {
     "name": "stdin",
     "output_type": "stream",
     "text": [
      "enter the age: 23\n"
     ]
    },
    {
     "name": "stdout",
     "output_type": "stream",
     "text": [
      "young person\n"
     ]
    }
   ],
   "source": [
    "age=eval(input(\"enter the age:\"))\n",
    "if age>100:\n",
    "    print(\"unlucky guy\")\n",
    "elif age>=80:\n",
    "    print(\"super senior citizen\")\n",
    "elif age>=60:\n",
    "    print(\"senior citizen\")\n",
    "elif age>=40:\n",
    "    print(\"aged perosn\")\n",
    "elif age>=25:\n",
    "    print(\"middle aged\")\n",
    "elif age>=15:\n",
    "    print(\"young person\")\n",
    "else:\n",
    "    print(\"kid\")"
   ]
  },
  {
   "cell_type": "code",
   "execution_count": 20,
   "id": "2df89d8f-1a10-4e38-b4d8-d7a63254e284",
   "metadata": {},
   "outputs": [
    {
     "name": "stdin",
     "output_type": "stream",
     "text": [
      "enter the distance: 100\n"
     ]
    },
    {
     "name": "stdout",
     "output_type": "stream",
     "text": [
      "the charge is 20 rs for morethan 100 kms\n",
      "the charge is 10 rs for morethan 50 kms\n",
      "the charge is 5 rs for morethan 25 kms\n",
      "there is free ride for lessthan 25 kms\n"
     ]
    },
    {
     "name": "stdin",
     "output_type": "stream",
     "text": [
      "enter the charge: 20\n"
     ]
    },
    {
     "name": "stdout",
     "output_type": "stream",
     "text": [
      "the total charge is:2000\n"
     ]
    }
   ],
   "source": [
    "dis=eval(input(\"enter the distance:\"))\n",
    "print(\"the charge is 20 rs for morethan 100 kms\")\n",
    "print(\"the charge is 10 rs for morethan 50 kms\")\n",
    "print(\"the charge is 5 rs for morethan 25 kms\")\n",
    "print(\"there is free ride for lessthan 25 kms\")\n",
    "\n",
    "if dis>=75:\n",
    "    charge=eval(input(\"enter the charge:\"))\n",
    "    total_charge=dis*charge\n",
    "    print(f\"the total charge is:{total_charge}\")\n",
    "elif dis>=50:\n",
    "    charge=eval(input(\"enter the charge:\"))\n",
    "    total_charge=dis*charge\n",
    "    print(f\"the total charge is:{total_charge}\")\n",
    "elif dis>=25:\n",
    "    charge=eval(input(\"enter the charge:\"))\n",
    "    total_charge=dis*charge\n",
    "    print(f\"the total charge is:{total_charge}\")\n",
    "else:\n",
    "    print(\"free ride\")"
   ]
  },
  {
   "cell_type": "code",
   "execution_count": 30,
   "id": "6e01f6c8-ce99-43b4-991d-9be2678df10b",
   "metadata": {},
   "outputs": [
    {
     "name": "stdout",
     "output_type": "stream",
     "text": [
      "enter 1 for addition\n",
      "enter 2 for sub\n",
      "enter 3 for mul\n",
      "enter 4 for div\n"
     ]
    },
    {
     "name": "stdin",
     "output_type": "stream",
     "text": [
      "enter the number from keyboard 24\n",
      "enter the number from keyboard 42\n",
      "enter the numbers between 1 to 4 5\n"
     ]
    },
    {
     "name": "stdout",
     "output_type": "stream",
     "text": [
      "no operation\n"
     ]
    }
   ],
   "source": [
    "# you need to print some statements\n",
    "from time import sleep\n",
    "sleep(1)\n",
    "print(\"enter 1 for addition\")\n",
    "sleep(1)\n",
    "print(\"enter 2 for sub\")\n",
    "sleep(1)\n",
    "print(\"enter 3 for mul\")\n",
    "sleep(1)\n",
    "print(\"enter 4 for div\")\n",
    "sleep(1)\n",
    "n1=eval(input(\"enter the number from keyboard\"))\n",
    "n2=eval(input(\"enter the number from keyboard\"))\n",
    "operation=eval(input('enter the numbers between 1 to 4'))\n",
    "if operation==1:\n",
    "     print(\"you choose addition opertaion\")\n",
    "     addition=n1+n2\n",
    "     print(f\"the addition is {addition}\")\n",
    "elif operation==2:\n",
    "     print(\"you choose subtraction opertaion\")\n",
    "     sub=n1-n2\n",
    "     print(f\"the subtraction is {sub}\")\n",
    "elif operation==3:\n",
    "     print(\"you choose multiplication opertaion\")\n",
    "     mul=n1*n2\n",
    "     print(f\"the multiplication is {mul}\")\n",
    "elif operation==4:\n",
    "     print(\"you choose division opertaion\")\n",
    "     div=n1/n2\n",
    "     print(f\"the division is {div}\")\n",
    "else:\n",
    "     print(\"no operation\")"
   ]
  },
  {
   "cell_type": "code",
   "execution_count": null,
   "id": "f0c6c4dd-0f85-4207-8059-32c3db945289",
   "metadata": {},
   "outputs": [],
   "source": []
  }
 ],
 "metadata": {
  "kernelspec": {
   "display_name": "Python 3 (ipykernel)",
   "language": "python",
   "name": "python3"
  },
  "language_info": {
   "codemirror_mode": {
    "name": "ipython",
    "version": 3
   },
   "file_extension": ".py",
   "mimetype": "text/x-python",
   "name": "python",
   "nbconvert_exporter": "python",
   "pygments_lexer": "ipython3",
   "version": "3.12.7"
  }
 },
 "nbformat": 4,
 "nbformat_minor": 5
}
