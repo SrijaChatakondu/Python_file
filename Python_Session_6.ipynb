{
 "cells": [
  {
   "cell_type": "code",
   "execution_count": null,
   "id": "c75ef7b5-ff54-49a7-bf0a-9fcf3614fdba",
   "metadata": {},
   "outputs": [],
   "source": [
    "- simply use **eval** conversion always"
   ]
  },
  {
   "cell_type": "markdown",
   "id": "5acf0a2c-1a12-4561-bf93-795d3f0f1c90",
   "metadata": {},
   "source": [
    "## eval"
   ]
  },
  {
   "cell_type": "code",
   "execution_count": 1,
   "id": "9ad3a89f-2926-4d96-bcfd-60eae6be6866",
   "metadata": {},
   "outputs": [
    {
     "name": "stdin",
     "output_type": "stream",
     "text": [
      "enter a number1: 23\n",
      "enter a number2: 38\n"
     ]
    },
    {
     "name": "stdout",
     "output_type": "stream",
     "text": [
      "the addition of 23 and 38 is 61\n"
     ]
    }
   ],
   "source": [
    "n1=eval(input(\"enter a number1:\"))\n",
    "n2=eval(input(\"enter a number2:\"))\n",
    "n1+n2\n",
    "print(f\"the addition of {n1} and {n2} is {n1+n2}\")"
   ]
  },
  {
   "cell_type": "markdown",
   "id": "e4b83007-e46f-45bf-97ce-5a3fc6426937",
   "metadata": {},
   "source": [
    "- error1:(never closed\n",
    "    - you open the bracket,you forget to close\n",
    "- error2:unterminated string literal\n",
    "    - you forget to close the quotes provided"
   ]
  },
  {
   "cell_type": "markdown",
   "id": "4809ea60-546e-4257-b3cc-e0bc02361317",
   "metadata": {},
   "source": [
    "# wap ask the user take three numbers from keyboard and print average\n"
   ]
  },
  {
   "cell_type": "code",
   "execution_count": 21,
   "id": "f9b4b928-a11b-47e7-bbff-fa9ad0aba0f5",
   "metadata": {},
   "outputs": [
    {
     "name": "stdin",
     "output_type": "stream",
     "text": [
      "enter a num1: 5\n",
      "enter a num2: 23\n",
      "enter a num3: 38\n"
     ]
    },
    {
     "name": "stdout",
     "output_type": "stream",
     "text": [
      "the average of 5 ,23 and 38 is 22.0\n"
     ]
    }
   ],
   "source": [
    "n1=eval(input(\"enter a num1:\"))\n",
    "n2=eval(input(\"enter a num2:\"))\n",
    "n3=eval(input(\"enter a num3:\"))\n",
    "add=n1+n2+n3\n",
    "avg=add/3\n",
    "print(f\"the average of {n1} ,{n2} and {n3} is {avg}\")   "
   ]
  },
  {
   "cell_type": "code",
   "execution_count": 22,
   "id": "e45ceaff-90b2-421c-bd78-0ae2bf89f90d",
   "metadata": {},
   "outputs": [
    {
     "name": "stdin",
     "output_type": "stream",
     "text": [
      "enter a number: 2\n",
      "enter a number: 4\n"
     ]
    },
    {
     "name": "stdout",
     "output_type": "stream",
     "text": [
      "area of right angled triangle is: 4.0\n"
     ]
    }
   ],
   "source": [
    "h=eval(input(\"enter a number:\"))\n",
    "b=eval(input(\"enter a number:\"))\n",
    "area=(1/2)*b*h\n",
    "print(\"area of right angled triangle is:\",area)\n"
   ]
  },
  {
   "cell_type": "code",
   "execution_count": 12,
   "id": "943a64f1-ae63-46a0-afff-6d6ba2e5d2ed",
   "metadata": {},
   "outputs": [
    {
     "name": "stdin",
     "output_type": "stream",
     "text": [
      "enter the radius: 3\n",
      "enter the value: 3.14\n"
     ]
    },
    {
     "name": "stdout",
     "output_type": "stream",
     "text": [
      "area of circle 28.259999999999998\n"
     ]
    }
   ],
   "source": [
    "r=eval(input(\"enter the radius:\"))\n",
    "pi=eval(input(\"enter the value:\"))\n",
    "area=pi*r*r\n",
    "print(\"area of circle\",area)"
   ]
  },
  {
   "cell_type": "code",
   "execution_count": 13,
   "id": "262cb09d-a66f-4de7-97fd-10e3f96ee0e1",
   "metadata": {},
   "outputs": [
    {
     "name": "stdin",
     "output_type": "stream",
     "text": [
      "enter the bill amount: 340\n",
      "enter the tip amount he wants to give: 60\n"
     ]
    },
    {
     "name": "stdout",
     "output_type": "stream",
     "text": [
      "total amount paid is 340 and 60 is 400\n"
     ]
    }
   ],
   "source": [
    "bill=eval(input(\"enter the bill amount:\"))\n",
    "tip=eval(input(\"enter the tip amount he wants to give:\"))\n",
    "total=bill+tip\n",
    "print(f\"total amount paid is {bill} and {tip} is {total}\")"
   ]
  },
  {
   "cell_type": "code",
   "execution_count": 15,
   "id": "2f214977-80dc-4efa-b2db-21ac2dc8cbbb",
   "metadata": {},
   "outputs": [
    {
     "name": "stdin",
     "output_type": "stream",
     "text": [
      "enter the bill amount: 360\n",
      "enter the tip percenthe wants to give: 30\n"
     ]
    },
    {
     "name": "stdout",
     "output_type": "stream",
     "text": [
      "total amount paid is 360 and 30 is 468.0\n"
     ]
    }
   ],
   "source": [
    "bill=eval(input(\"enter the bill amount:\"))\n",
    "tip_percent=eval(input(\"enter the tip percenthe wants to give:\"))\n",
    "total=bill+((bill*tip_percent)/100)\n",
    "print(f\"total amount paid is {bill} and {tip_percent} is {total}\")"
   ]
  },
  {
   "cell_type": "markdown",
   "id": "9e700c9a-01d6-4a00-a215-122148fef2de",
   "metadata": {},
   "source": [
    "# roundoff"
   ]
  },
  {
   "cell_type": "code",
   "execution_count": 17,
   "id": "fac45557-95bf-4916-a7c4-80479e174195",
   "metadata": {},
   "outputs": [
    {
     "data": {
      "text/plain": [
       "38"
      ]
     },
     "execution_count": 17,
     "metadata": {},
     "output_type": "execute_result"
    }
   ],
   "source": [
    "round(37.9999)"
   ]
  },
  {
   "cell_type": "code",
   "execution_count": 20,
   "id": "f16b7f27-b9d7-4e2e-b8ca-cb955a036c10",
   "metadata": {},
   "outputs": [
    {
     "data": {
      "text/plain": [
       "38.67"
      ]
     },
     "execution_count": 20,
     "metadata": {},
     "output_type": "execute_result"
    }
   ],
   "source": [
    "round(38.66678,2)"
   ]
  },
  {
   "cell_type": "code",
   "execution_count": null,
   "id": "8c1ea315-eb13-4d97-9bf2-6723b0b9bb04",
   "metadata": {},
   "outputs": [],
   "source": [
    "# father:hey beta!whats'app\n",
    "# son:hai daddy\n",
    "# father:i heard your results came out\n",
    "# son:yes dad\n",
    "# father:Great!how much percentage we got\n",
    "# son:I will tell the subject marks you tell me the percentage\n",
    "# father:wow thats super game!Lets start\n",
    "\n",
    "input(\"father:\")\n",
    "input(\"son:\")\n",
    "input(\"father:\")\n",
    "input(\"son:\")\n",
    "input(\"father:\")\n",
    "input(\"son:\")\n",
    "telugu=eval(input(\"enter the marks of telugu:\"))\n",
    "Hindi=eval(input(\"enter the marks of Hindi:\"))\n",
    "English=eval(input(\"enter the marks of English:\"))\n",
    "Maths=eval(input(\"enter the marks of Maths:\"))\n",
    "Science=eval(input(\"enter the marks of Science:\"))\n",
    "Social=eval(input(\"enter the marks of social:\"))\n",
    "total=600\n",
    "sum=telugu+Hindi+English+Maths+Science+Social\n",
    "Percentage=(sum/total)*100\n",
    "print(\"f'the percentage of all subjects is :{Percentage}\")"
   ]
  },
  {
   "cell_type": "code",
   "execution_count": null,
   "id": "346a1939-864d-40e1-abee-71461952591b",
   "metadata": {},
   "outputs": [],
   "source": [
    "input(\"father:\")\n",
    "input(\"son:\")\n",
    "input(\"father:\")\n",
    "input(\"son:\")\n",
    "input(\"father:\")\n",
    "input(\"son:\")\n",
    "telugu=eval(input(\"enter the marks of telugu:\"))\n",
    "Hindi=eval(input(\"enter the marks of Hindi:\"))\n",
    "English=eval(input(\"enter the marks of English:\"))\n",
    "Maths=eval(input(\"enter the marks of Maths:\"))\n",
    "Science=eval(input(\"enter the marks of Science:\"))\n",
    "Social=eval(input(\"enter the marks of social:\"))\n",
    "total=600\n",
    "sum=telugu+Hindi+English+Maths+Science+Social\n",
    "Percentage=(sum/total)*100\n",
    "print(\"f'the percentage of all subjects is :{Percentage}\")"
   ]
  },
  {
   "cell_type": "code",
   "execution_count": null,
   "id": "26f564d2-d1bb-4b44-aa4d-0a2a58ea8a72",
   "metadata": {},
   "outputs": [],
   "source": []
  }
 ],
 "metadata": {
  "kernelspec": {
   "display_name": "Python 3 (ipykernel)",
   "language": "python",
   "name": "python3"
  },
  "language_info": {
   "codemirror_mode": {
    "name": "ipython",
    "version": 3
   },
   "file_extension": ".py",
   "mimetype": "text/x-python",
   "name": "python",
   "nbconvert_exporter": "python",
   "pygments_lexer": "ipython3",
   "version": "3.12.7"
  }
 },
 "nbformat": 4,
 "nbformat_minor": 5
}
